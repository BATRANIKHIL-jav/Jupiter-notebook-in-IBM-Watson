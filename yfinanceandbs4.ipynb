import yfinance as yf
import pandas as pd
import requests
from bs4 import BeautifulSoup

Tesla=yf.Ticker('TSLA')

tesla_data=Tesla.history(period="max")
tesla_data.reset_index(inplace=True)
tesla_data


